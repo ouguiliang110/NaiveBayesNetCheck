{
 "cells": [
  {
   "cell_type": "code",
   "execution_count": 3,
   "metadata": {
    "scrolled": true
   },
   "outputs": [
    {
     "name": "stdout",
     "output_type": "stream",
     "text": [
      "44\n",
      "266\n"
     ]
    }
   ],
   "source": [
    "import random\n",
    "import numpy as np\n",
    "import math\n",
    "import matplotlib.pyplot as plt\n",
    "from sklearn.naive_bayes import GaussianNB\n",
    "import seaborn as sns\n",
    "X = np.loadtxt('[024]SPECTF(0-1).txt')\n",
    "# 主要的参数设置\n",
    "n1 = 0.0001\n",
    "n2 = 0.0001\n",
    "n3 = 0.000001\n",
    "N = 100\n",
    "b = 1  # β值大小\n",
    "T = 3  # 组数量大小\n",
    "m = X.shape[1]-1  # 属性数量\n",
    "n = X.shape[0]-1  # 样本数目 其中第一类212，第二类55\n",
    "print(m)\n",
    "print(n)"
   ]
  },
  {
   "cell_type": "code",
   "execution_count": 9,
   "metadata": {},
   "outputs": [
    {
     "name": "stdout",
     "output_type": "stream",
     "text": [
      "{1.0, 2.0}\n"
     ]
    }
   ],
   "source": [
    "SetClass=set(X[:,m])\n",
    "print(SetClass)\n",
    "K=len(SetClass)"
   ]
  },
  {
   "cell_type": "code",
   "execution_count": 3,
   "metadata": {},
   "outputs": [
    {
     "name": "stdout",
     "output_type": "stream",
     "text": [
      "[[1, 2, 3], [1, 2, 3, 4]]\n"
     ]
    }
   ],
   "source": [
    "Group=[]\n",
    "Group.append([1,2,3])\n",
    "Group.append([1,2,3,4])\n",
    "print(Group)"
   ]
  },
  {
   "cell_type": "code",
   "execution_count": null,
   "metadata": {},
   "outputs": [],
   "source": []
  },
  {
   "cell_type": "code",
   "execution_count": null,
   "metadata": {},
   "outputs": [],
   "source": []
  },
  {
   "cell_type": "code",
   "execution_count": null,
   "metadata": {},
   "outputs": [],
   "source": []
  }
 ],
 "metadata": {
  "kernelspec": {
   "display_name": "Python 3",
   "language": "python",
   "name": "python3"
  },
  "language_info": {
   "codemirror_mode": {
    "name": "ipython",
    "version": 3
   },
   "file_extension": ".py",
   "mimetype": "text/x-python",
   "name": "python",
   "nbconvert_exporter": "python",
   "pygments_lexer": "ipython3",
   "version": "3.8.3"
  }
 },
 "nbformat": 4,
 "nbformat_minor": 4
}
